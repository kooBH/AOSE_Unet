{
 "cells": [
  {
   "cell_type": "markdown",
   "metadata": {},
   "source": [
    "# Clean, Noisy Path"
   ]
  },
  {
   "cell_type": "markdown",
   "metadata": {},
   "source": [
    "+ clean   \n",
    "\\\\163.239.192.82\\nas1_data\\DB\\CHiME4\\data\\audio\\16kHz\\isolated_ext 에   \n",
    "F01_22GC010A_BUS.CH1.Clean.wav 이런 식으로 simu 데이터에 대한 clean 이 존재  \n",
    "\n",
    "+ noise  \n",
    "\\\\163.239.192.82\\nas1_data\\user\\albert\\2020_IITP_share\\data\\CGMM-RLS\\trial_01\\winL1024_gamma0.99_Ln5_MVDRon0\\dt05_bus_simu 에   \n",
    "winL1024_gamma0.99_Ln5_MVDRon0 와 winL1024_gamma0.99_Ln5_MVDRon1 이 있음.  \n",
    "F01_22GC010A_BUS  이런식으로 1채널 파일이 존재\n"
   ]
  },
  {
   "cell_type": "code",
   "execution_count": 1,
   "metadata": {},
   "outputs": [],
   "source": [
    "clean_root = '/home/nas/DB/CHiME4/data/audio/16kHz/isolated_ext'\n",
    "noisy_root = '/home/nas/user/albert/2020_IITP_share/data/CGMM-RLS\\trial_01'"
   ]
  },
  {
   "cell_type": "markdown",
   "metadata": {},
   "source": [
    "# Glob"
   ]
  },
  {
   "cell_type": "code",
   "execution_count": 2,
   "metadata": {},
   "outputs": [],
   "source": [
    "import os,glob"
   ]
  },
  {
   "cell_type": "code",
   "execution_count": 29,
   "metadata": {},
   "outputs": [
    {
     "name": "stdout",
     "output_type": "stream",
     "text": [
      "['/home/nas/user/kbh/dir_prac/clean/dt05_bus_simu/F01_22GC010A_BUS.CH1.Clean.wav', '/home/nas/user/kbh/dir_prac/clean/dt05_bus_simu/F01_22GC010X_BUS.CH1.Clean.wav', '/home/nas/user/kbh/dir_prac/clean/tr05_bus_simu/01B_01BC020A_BUS.CH1.Clean.wav', '/home/nas/user/kbh/dir_prac/clean/tr05_bus_simu/01B_01BC020D_BUS.CH1.Clean.wav', '/home/nas/user/kbh/dir_prac/clean/et05_caf_simu/F05_440C020E_CAF.CH1.Clean.wav', '/home/nas/user/kbh/dir_prac/clean/et05_caf_simu/F05_440C020F_CAF.CH1.Clean.wav']\n"
     ]
    }
   ],
   "source": [
    "# Clean Test\n",
    "test_clean_root = '/home/nas/user/kbh/dir_prac/clean'\n",
    "test_clean_list = [x for  x in glob.glob(os.path.join(test_clean_root,'*','*.CH1.Clean.wav')) if not os.path.isdir(x)]\n",
    "print(test_clean_list)"
   ]
  },
  {
   "cell_type": "code",
   "execution_count": 30,
   "metadata": {},
   "outputs": [
    {
     "name": "stdout",
     "output_type": "stream",
     "text": [
      "['/home/nas/user/kbh/dir_prac/noisy/dt05_bus_simu/F01_22GC010X_BUS.wav', '/home/nas/user/kbh/dir_prac/noisy/dt05_bus_simu/F01_22GC010A_BUS.wav', '/home/nas/user/kbh/dir_prac/noisy/et05_caf_simu/F05_440C020F_CAF.wav', '/home/nas/user/kbh/dir_prac/noisy/et05_caf_simu/F05_440C020E_CAF.wav', '/home/nas/user/kbh/dir_prac/noisy/tr05_bus_simu/01B_01BC020D.wav', '/home/nas/user/kbh/dir_prac/noisy/tr05_bus_simu/01B_01BC020A.wav']\n"
     ]
    }
   ],
   "source": [
    "# Nosiy Test\n",
    "test_noisy_root = '/home/nas/user/kbh/dir_prac/noisy'\n",
    "test_noisy_list = [x for  x in glob.glob(os.path.join(test_noisy_root,'dt*_simu','*.wav')) if not os.path.isdir(x)] \\\n",
    "            +[x for  x in glob.glob(os.path.join(test_noisy_root,'et*_simu','*.wav')) if not os.path.isdir(x)]\\\n",
    "            +[x for  x in glob.glob(os.path.join(test_noisy_root,'tr*_simu','*.wav')) if not os.path.isdir(x)]\n",
    "print(test_noisy_list)"
   ]
  },
  {
   "cell_type": "markdown",
   "metadata": {},
   "source": [
    "# Matching"
   ]
  },
  {
   "cell_type": "markdown",
   "metadata": {},
   "source": [
    "### Get ID"
   ]
  },
  {
   "cell_type": "code",
   "execution_count": 40,
   "metadata": {},
   "outputs": [
    {
     "name": "stdout",
     "output_type": "stream",
     "text": [
      "F01_22GC010A\n",
      "F01_22GC010X\n",
      "01B_01BC020A\n",
      "01B_01BC020D\n",
      "F05_440C020E\n",
      "F05_440C020F\n"
     ]
    }
   ],
   "source": [
    "for t in test_clean_list :\n",
    "    x = t.split('/')\n",
    "    x = x[-1]\n",
    "    x = x.split('_')\n",
    "    x = x[0]+'_'+x[1]\n",
    "    print(x)"
   ]
  },
  {
   "cell_type": "markdown",
   "metadata": {},
   "source": [
    "DEV,TEST 데이터는 F05_440C020F_CAF 이렇게 되었는데  \n",
    "TRAIN 데이터는 01B_01BC020A.wav 이렇게 되었다. "
   ]
  },
  {
   "cell_type": "code",
   "execution_count": 39,
   "metadata": {},
   "outputs": [
    {
     "name": "stdout",
     "output_type": "stream",
     "text": [
      "F01_22GC010X\n",
      "F01_22GC010A\n",
      "F05_440C020F\n",
      "F05_440C020E\n",
      "01B_01BC020D\n",
      "01B_01BC020A\n"
     ]
    }
   ],
   "source": [
    "for t in test_noisy_list :\n",
    "    x = t.split('/')\n",
    "    x = x[-1]\n",
    "    x = x.split('_')\n",
    "    if len(x) > 2 :\n",
    "        x = x[0]+'_'+x[1]\n",
    "    else :\n",
    "        x = x[0] + '_'+ x[1].split('.')[0]\n",
    "    print(x)"
   ]
  },
  {
   "cell_type": "markdown",
   "metadata": {},
   "source": [
    "## MATCHING DB"
   ]
  },
  {
   "cell_type": "code",
   "execution_count": 47,
   "metadata": {},
   "outputs": [
    {
     "name": "stdout",
     "output_type": "stream",
     "text": [
      "{'F01_22GC010A': '/home/nas/user/kbh/dir_prac/clean/dt05_bus_simu/F01_22GC010A_BUS.CH1.Clean.wav', 'F01_22GC010X': '/home/nas/user/kbh/dir_prac/clean/dt05_bus_simu/F01_22GC010X_BUS.CH1.Clean.wav', '01B_01BC020A': '/home/nas/user/kbh/dir_prac/clean/tr05_bus_simu/01B_01BC020A_BUS.CH1.Clean.wav', '01B_01BC020D': '/home/nas/user/kbh/dir_prac/clean/tr05_bus_simu/01B_01BC020D_BUS.CH1.Clean.wav', 'F05_440C020E': '/home/nas/user/kbh/dir_prac/clean/et05_caf_simu/F05_440C020E_CAF.CH1.Clean.wav', 'F05_440C020F': '/home/nas/user/kbh/dir_prac/clean/et05_caf_simu/F05_440C020F_CAF.CH1.Clean.wav'}\n",
      "/home/nas/user/kbh/dir_prac/noisy/dt05_bus_simu/F01_22GC010X_BUS.wav | /home/nas/user/kbh/dir_prac/clean/dt05_bus_simu/F01_22GC010X_BUS.CH1.Clean.wav\n",
      "/home/nas/user/kbh/dir_prac/noisy/dt05_bus_simu/F01_22GC010A_BUS.wav | /home/nas/user/kbh/dir_prac/clean/dt05_bus_simu/F01_22GC010A_BUS.CH1.Clean.wav\n",
      "/home/nas/user/kbh/dir_prac/noisy/et05_caf_simu/F05_440C020F_CAF.wav | /home/nas/user/kbh/dir_prac/clean/et05_caf_simu/F05_440C020F_CAF.CH1.Clean.wav\n",
      "/home/nas/user/kbh/dir_prac/noisy/et05_caf_simu/F05_440C020E_CAF.wav | /home/nas/user/kbh/dir_prac/clean/et05_caf_simu/F05_440C020E_CAF.CH1.Clean.wav\n",
      "/home/nas/user/kbh/dir_prac/noisy/tr05_bus_simu/01B_01BC020D.wav | /home/nas/user/kbh/dir_prac/clean/tr05_bus_simu/01B_01BC020D_BUS.CH1.Clean.wav\n",
      "/home/nas/user/kbh/dir_prac/noisy/tr05_bus_simu/01B_01BC020A.wav | /home/nas/user/kbh/dir_prac/clean/tr05_bus_simu/01B_01BC020A_BUS.CH1.Clean.wav\n"
     ]
    }
   ],
   "source": [
    "clean_dict={}\n",
    "for t in test_clean_list :\n",
    "    x = t.split('/')\n",
    "    x = x[-1]\n",
    "    x = x.split('_')\n",
    "    x = x[0]+'_'+x[1]\n",
    "    clean_dict[x] = t\n",
    "print(clean_dict)\n",
    "\n",
    "for t in test_noisy_list :\n",
    "    x = t.split('/')\n",
    "    x = x[-1]\n",
    "    x = x.split('_')\n",
    "    if len(x) > 2 :\n",
    "        x = x[0]+'_'+x[1]\n",
    "    else :\n",
    "        x = x[0] + '_'+ x[1].split('.')[0]\n",
    "    print( t+' | '+ clean_dict[x])"
   ]
  },
  {
   "cell_type": "markdown",
   "metadata": {},
   "source": [
    "# Sync"
   ]
  },
  {
   "cell_type": "markdown",
   "metadata": {},
   "source": [
    "CGMM 수행하면서 6채널이 1채널이 되고, STFT로 인해 딜레이가 발생한다. 싱크를 맞춰야함"
   ]
  },
  {
   "cell_type": "code",
   "execution_count": 42,
   "metadata": {},
   "outputs": [],
   "source": [
    "from SyncWav import sync_wav"
   ]
  },
  {
   "cell_type": "markdown",
   "metadata": {},
   "source": [
    "# Gen Pickle"
   ]
  },
  {
   "cell_type": "code",
   "execution_count": null,
   "metadata": {},
   "outputs": [],
   "source": []
  },
  {
   "cell_type": "markdown",
   "metadata": {},
   "source": [
    "# Test"
   ]
  },
  {
   "cell_type": "code",
   "execution_count": null,
   "metadata": {},
   "outputs": [],
   "source": []
  }
 ],
 "metadata": {
  "kernelspec": {
   "display_name": "Python 3",
   "language": "python",
   "name": "python3"
  },
  "language_info": {
   "codemirror_mode": {
    "name": "ipython",
    "version": 3
   },
   "file_extension": ".py",
   "mimetype": "text/x-python",
   "name": "python",
   "nbconvert_exporter": "python",
   "pygments_lexer": "ipython3",
   "version": "3.8.0"
  }
 },
 "nbformat": 4,
 "nbformat_minor": 4
}
