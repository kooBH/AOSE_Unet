{
 "cells": [
  {
   "cell_type": "code",
   "execution_count": 52,
   "metadata": {},
   "outputs": [],
   "source": [
    "import sys \n",
    "sys.path.append('..')\n",
    "from utils.hparams import HParam\n",
    "import os\n",
    "import glob\n",
    "import numpy as np\n",
    "from sklearn.model_selection import train_test_split\n"
   ]
  },
  {
   "cell_type": "code",
   "execution_count": 25,
   "metadata": {},
   "outputs": [],
   "source": [
    "wav_path = '/home/nas/user/kbh/Chime_MLDR/wav/'\n",
    "clean_path = wav_path + 'clean/'"
   ]
  },
  {
   "cell_type": "code",
   "execution_count": 15,
   "metadata": {},
   "outputs": [],
   "source": [
    "clean_list = [x for x in glob.glob(os.path.join(wav_path, 'clean','**'), recursive=True) if not os.path.isdir(x)]\n",
    "mldr_list = [x for x in glob.glob(os.path.join(wav_path, 'mldr','**'), recursive=True) if not os.path.isdir(x)]"
   ]
  },
  {
   "cell_type": "code",
   "execution_count": 18,
   "metadata": {},
   "outputs": [
    {
     "name": "stdout",
     "output_type": "stream",
     "text": [
      "/home/nas/user/kbh/Chime_MLDR/wav/clean/dt05_bth_0/F01_050C0103_BTH.CH0.wav\n",
      "/home/nas/user/kbh/Chime_MLDR/wav/clean/dt05_bth_0/F01_050C0105_BTH.CH0.wav\n",
      "/home/nas/user/kbh/Chime_MLDR/wav/clean/dt05_bth_0/F01_050C010C_BTH.CH0.wav\n",
      "/home/nas/user/kbh/Chime_MLDR/wav/clean/dt05_bth_0/F01_050C010G_BTH.CH0.wav\n",
      "/home/nas/user/kbh/Chime_MLDR/wav/clean/dt05_bth_0/F01_050C010J_BTH.CH0.wav\n",
      "/home/nas/user/kbh/Chime_MLDR/wav/clean/dt05_bth_0/F01_050C010K_BTH.CH0.wav\n",
      "/home/nas/user/kbh/Chime_MLDR/wav/clean/dt05_bth_0/F01_050C010L_BTH.CH0.wav\n",
      "/home/nas/user/kbh/Chime_MLDR/wav/clean/dt05_bth_0/F01_050C010O_BTH.CH0.wav\n",
      "/home/nas/user/kbh/Chime_MLDR/wav/clean/dt05_bth_0/F01_050C010P_BTH.CH0.wav\n",
      "/home/nas/user/kbh/Chime_MLDR/wav/clean/dt05_bth_0/F01_050C010R_BTH.CH0.wav\n"
     ]
    }
   ],
   "source": [
    "len(clean_list)\n",
    "for i in range(10) : \n",
    "    print(clean_list[i])"
   ]
  },
  {
   "cell_type": "code",
   "execution_count": 39,
   "metadata": {},
   "outputs": [
    {
     "name": "stdout",
     "output_type": "stream",
     "text": [
      "/home/nas/user/kbh/Chime_MLDR/wav/mldr/dt05_bus_simu/F01_050C0103_BUS.wav\n",
      "/home/nas/user/kbh/Chime_MLDR/wav/mldr/dt05_bus_simu/F01_050C0105_BUS.wav\n",
      "/home/nas/user/kbh/Chime_MLDR/wav/mldr/dt05_bus_simu/F01_050C010C_BUS.wav\n",
      "/home/nas/user/kbh/Chime_MLDR/wav/mldr/dt05_bus_simu/F01_050C010G_BUS.wav\n",
      "/home/nas/user/kbh/Chime_MLDR/wav/mldr/dt05_bus_simu/F01_050C010J_BUS.wav\n",
      "/home/nas/user/kbh/Chime_MLDR/wav/mldr/dt05_bus_simu/F01_050C010K_BUS.wav\n",
      "/home/nas/user/kbh/Chime_MLDR/wav/mldr/dt05_bus_simu/F01_050C010L_BUS.wav\n",
      "/home/nas/user/kbh/Chime_MLDR/wav/mldr/dt05_bus_simu/F01_050C010O_BUS.wav\n",
      "/home/nas/user/kbh/Chime_MLDR/wav/mldr/dt05_bus_simu/F01_050C010P_BUS.wav\n",
      "/home/nas/user/kbh/Chime_MLDR/wav/mldr/dt05_bus_simu/F01_050C010R_BUS.wav\n",
      "2960\n"
     ]
    }
   ],
   "source": [
    "for i in range(10) : \n",
    "    print(mldr_list[i])\n",
    "print(len(mldr_list))"
   ]
  },
  {
   "cell_type": "markdown",
   "metadata": {},
   "source": [
    "# Target Path to Clean Path"
   ]
  },
  {
   "cell_type": "code",
   "execution_count": 66,
   "metadata": {
    "scrolled": true
   },
   "outputs": [
    {
     "name": "stdout",
     "output_type": "stream",
     "text": [
      "/home/nas/user/kbh/Chime_MLDR/wav/mldr/dt05_bus_simu/F01_050C0103_BUS.wav\n",
      "F01_050C0103_BUS\n",
      "/home/nas/user/kbh/Chime_MLDR/wav/clean/F01_050C0103_BTH.CH0.wav\n"
     ]
    }
   ],
   "source": [
    "target = mldr_list[0]\n",
    "print(target)\n",
    "s = target.split('/')\n",
    "t = s[-1]\n",
    "b = s[:-3]\n",
    "c = '/'.join(b)\n",
    "d = c + '/clean/'\n",
    "\n",
    "e = t.split('_')\n",
    "h = t.split('.')[0]\n",
    "print(h)\n",
    "f =  '_'.join(e[:2]) + '_BTH.CH0.wav'\n",
    "g = d + f\n",
    "print(g)"
   ]
  },
  {
   "cell_type": "markdown",
   "metadata": {},
   "source": [
    "# Sampling"
   ]
  },
  {
   "cell_type": "code",
   "execution_count": 59,
   "metadata": {},
   "outputs": [
    {
     "name": "stdout",
     "output_type": "stream",
     "text": [
      "2368\n",
      "592\n",
      "2960\n",
      "<class 'list'>\n"
     ]
    }
   ],
   "source": [
    "x,y = train_test_split(mldr_list,test_size=0.2)\n",
    "print(len(x))\n",
    "print(len(y))\n",
    "print(len(x) + len(y))\n",
    "print(type(x))"
   ]
  },
  {
   "cell_type": "markdown",
   "metadata": {},
   "source": []
  },
  {
   "cell_type": "code",
   "execution_count": 61,
   "metadata": {},
   "outputs": [],
   "source": [
    "hp = HParam('../config/default.yaml')"
   ]
  },
  {
   "cell_type": "code",
   "execution_count": 69,
   "metadata": {},
   "outputs": [
    {
     "name": "stdout",
     "output_type": "stream",
     "text": [
      "110\n"
     ]
    }
   ],
   "source": [
    "for i in range(111) :\n",
    "    x = i\n",
    "print(x)"
   ]
  },
  {
   "cell_type": "code",
   "execution_count": null,
   "metadata": {},
   "outputs": [],
   "source": []
  }
 ],
 "metadata": {
  "kernelspec": {
   "display_name": "Python 3",
   "language": "python",
   "name": "python3"
  },
  "language_info": {
   "codemirror_mode": {
    "name": "ipython",
    "version": 3
   },
   "file_extension": ".py",
   "mimetype": "text/x-python",
   "name": "python",
   "nbconvert_exporter": "python",
   "pygments_lexer": "ipython3",
   "version": "3.8.0"
  }
 },
 "nbformat": 4,
 "nbformat_minor": 4
}
